{
  "nbformat": 4,
  "nbformat_minor": 0,
  "metadata": {
    "colab": {
      "provenance": []
    },
    "kernelspec": {
      "name": "python3",
      "display_name": "Python 3"
    },
    "language_info": {
      "name": "python"
    }
  },
  "cells": [
    {
      "cell_type": "markdown",
      "source": [
        "# Tugas 1 Kelompok 1 Modul 1 Untuk Mata Kuliah Praktikum Berbasis Fungsi (PBF) kelas RA\n",
        "\n",
        "Tugas Jurnal Kelompok (Tahun 2023)\n",
        "1. Buatlah fungsi komposisi dengan nilai f(x) = 4^x, g(x) = x^x, dan h(x) = 3 + x dengan pemrograman prosedural tiga fungsi dan pemrograman fungsional dengan lambda.\n",
        "2. Buatlah pemrograman berbasis objek pada soal no.1\n",
        "3. Berikan Analisis Komparasi soal 1 dan 2\n",
        "4. Buatlah satu penyelesaian Luas Segitiga dengan menggunakan Pemrograman berorientasi Objek dan\n",
        "Pemrograman berbasis Fungsi. uji dengan membandingkan mana yang tercepat komputasinya.\n",
        "\n",
        "\n"
      ],
      "metadata": {
        "id": "FQjxazgSUL-b"
      }
    },
    {
      "cell_type": "code",
      "source": [
        "def f(x):\n",
        "  return 4*x\n",
        "\n",
        "def g(x):\n",
        " return x*x\n",
        "\n",
        "def h(x):\n",
        " return 3+x\n",
        "\n",
        "# Composition\n",
        "h(g(f(4)))"
      ],
      "metadata": {
        "colab": {
          "base_uri": "https://localhost:8080/"
        },
        "id": "dhoo-Xy-Va32",
        "outputId": "b1638794-e31b-4ba1-d418-762f3fc09581"
      },
      "execution_count": 1,
      "outputs": [
        {
          "output_type": "execute_result",
          "data": {
            "text/plain": [
              "259"
            ]
          },
          "metadata": {},
          "execution_count": 1
        }
      ]
    },
    {
      "cell_type": "code",
      "execution_count": 2,
      "metadata": {
        "colab": {
          "base_uri": "https://localhost:8080/"
        },
        "id": "HdTC9AIrT-8d",
        "outputId": "8f46d709-df01-40ef-e988-4dc3aea325a8"
      },
      "outputs": [
        {
          "output_type": "execute_result",
          "data": {
            "text/plain": [
              "147"
            ]
          },
          "metadata": {},
          "execution_count": 2
        }
      ],
      "source": [
        "def compose(f1, f2):\n",
        " return lambda v: f1(f2(v))\n",
        "\n",
        "hgf = compose(h, compose(g,f))\n",
        "hgf(3)"
      ]
    },
    {
      "cell_type": "code",
      "source": [
        "class Value:\n",
        "  def __init__(self, value):\n",
        "    self.value = value\n",
        "  # `value >> func`\n",
        "  def __rshift__(self, other):\n",
        "    return other(self.value)\n",
        "\n",
        "def f(x):\n",
        " return Value(4*x)\n",
        "def g(x):\n",
        " return Value(x * x)\n",
        "def h(x):\n",
        " return Value(3 + x)\n",
        "\n",
        "# this is known as \"continuation passing\" style\n",
        "# evaluate this, then apply that value\n",
        "result = Value(3) >> f >> g >> h\n",
        "result.value"
      ],
      "metadata": {
        "id": "42-ww9u0Vwmu",
        "outputId": "d01f88ac-cf24-4ce0-8c8c-7b92da17a912",
        "colab": {
          "base_uri": "https://localhost:8080/"
        }
      },
      "execution_count": 3,
      "outputs": [
        {
          "output_type": "execute_result",
          "data": {
            "text/plain": [
              "147"
            ]
          },
          "metadata": {},
          "execution_count": 3
        }
      ]
    },
    {
      "cell_type": "code",
      "source": [
        "import time\n",
        "\n",
        "st = time.time()\n",
        "\n",
        "def luas_segitiga(panjang,lebar,tinggi):\n",
        "  return (panjang*lebar*tinggi)/2\n",
        "luas_segitiga(2,3,4)\n",
        "\n",
        "et = time.time()\n",
        "elapsed_time = et - st\n",
        "\n",
        "print('Execution time:', elapsed_time, 'seconds')"
      ],
      "metadata": {
        "id": "IdtFzNFPWLO-",
        "outputId": "e243e6f1-4b4d-42ff-bf83-976ca2fab028",
        "colab": {
          "base_uri": "https://localhost:8080/"
        }
      },
      "execution_count": 4,
      "outputs": [
        {
          "output_type": "stream",
          "name": "stdout",
          "text": [
            "Execution time: 0.00011491775512695312 seconds\n"
          ]
        }
      ]
    },
    {
      "cell_type": "code",
      "source": [
        "import time\n",
        "\n",
        "st = time.time()\n",
        "\n",
        "class Sides:\n",
        "  def __init__(self,a, b, c):\n",
        "    self.a = a\n",
        "    self.b = b\n",
        "    self.c = c\n",
        "\n",
        "class A(Sides):\n",
        "  def area(self):\n",
        "    s = (self.a * self.b * self.c)/2\n",
        "    return s\n",
        "\n",
        "t = A(2,3,4)\n",
        "\n",
        "print(\"area of Triangle : {}\".format(t.area()))\n",
        "et = time.time()\n",
        "elapsed_time = et - st\n",
        "\n",
        "print('Execution time:', elapsed_time, 'seconds')"
      ],
      "metadata": {
        "id": "mQRuSTtMWac3",
        "outputId": "a99e369f-0cb3-4907-9718-6d888c654b3f",
        "colab": {
          "base_uri": "https://localhost:8080/"
        }
      },
      "execution_count": 5,
      "outputs": [
        {
          "output_type": "stream",
          "name": "stdout",
          "text": [
            "area of Triangle : 12.0\n",
            "Execution time: 0.0018939971923828125 seconds\n"
          ]
        }
      ]
    },
    {
      "cell_type": "code",
      "source": [
        "import time\n",
        "\n",
        "st = time.time()\n",
        "sg = lambda a,b,c: (a*b*c)/2\n",
        "\n",
        "sg(2,3,4)\n",
        "\n",
        "et = time.time()\n",
        "elapsed_time = et - st\n",
        "\n",
        "print('Execution time:', elapsed_time, 'seconds')"
      ],
      "metadata": {
        "id": "Q4B4s2XoWlfG",
        "outputId": "28e11deb-8c36-45b6-94cc-0996fabf0d7c",
        "colab": {
          "base_uri": "https://localhost:8080/"
        }
      },
      "execution_count": 7,
      "outputs": [
        {
          "output_type": "stream",
          "name": "stdout",
          "text": [
            "Execution time: 0.00021886825561523438 seconds\n"
          ]
        }
      ]
    }
  ]
}