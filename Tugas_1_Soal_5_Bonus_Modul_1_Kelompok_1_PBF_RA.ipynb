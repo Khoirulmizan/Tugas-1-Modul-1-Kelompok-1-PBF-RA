{
  "nbformat": 4,
  "nbformat_minor": 0,
  "metadata": {
    "colab": {
      "provenance": []
    },
    "kernelspec": {
      "name": "python3",
      "display_name": "Python 3"
    },
    "language_info": {
      "name": "python"
    }
  },
  "cells": [
    {
      "cell_type": "markdown",
      "source": [
        "# # Special Soal 5: Diberikan Algoritma Metode Bisection berikut:\n",
        "1. start\n",
        "2. Define function f(x)\n",
        "3. Choose initial guesses x0 and x1 such that f(x0)f(x1) < 0\n",
        "4. Choose pre-specified tolerable error e.\n",
        "5. Calculate new approximated root as x2 = (x0 + x1)/2\n",
        "6. Calculate f(x0)f(x2)\n",
        "7. a. if f(x0)f(x2) < 0 then x0 = x0 and x1 = x2\n",
        "8. b. if f(x0)f(x2) > 0 then x0 = x2 and x1 = x1\n",
        "9. c. if f(x0)f(x2) = 0 then goto (8)\n",
        "10. if |f(x2)| > e then goto (5) otherwise goto (8)\n",
        "11. Display x2 as root\n",
        "12. Stop\n",
        "\n",
        "Buatlah prosedural programming dari persoalan di atas dan ubahlah dengan functional programming. lakukan dengan batas toleransi 10^-5. dengan fungsi yang diberikan sebagai berikut: x - 2^x dan nilai a dan b adalah di antara 0 dan 1 (nilai antara tidak boleh 0 dan 1)."
      ],
      "metadata": {
        "id": "x1gKchO2XX7U"
      }
    },
    {
      "cell_type": "code",
      "source": [
        "# Defining Function\n",
        "def f(x):\n",
        "  return x-2**-x\n",
        "\n",
        "# Implementing Bisection Method\n",
        "def bisection(x0,x1,e):\n",
        "  step = 1\n",
        "  print('\\n\\n*** BISECTION METHOD IMPLEMENTATION ***')\n",
        "  condition = True\n",
        "\n",
        "  while condition:\n",
        "    x2 = (x0 + x1)/2\n",
        "    print('Iteration-%d, x2 = %0.6f and f(x2) = %0.6f' % (step, x2, f(x2)))\n",
        "\n",
        "    if f(x0) * f(x2) < 0:\n",
        "      x1 = x2\n",
        "    else:\n",
        "      x0 = x2\n",
        "    step = step + 1\n",
        "    condition = abs(f(x2)) > e\n",
        "\n",
        "  print('\\nRequired Root is : %0.8f' % x2)\n",
        "\n",
        "# Input Section\n",
        "x0 = 0.01\n",
        "x1 = 1\n",
        "e = 1e-5\n",
        "\n",
        "# Checking Correctness of initial guess values and bisecting\n",
        "if f(x0) * f(x1) > 0.0:\n",
        "  print('Given guess values do not bracket the root.')\n",
        "  print('Try Again with different guess values.')\n",
        "else:\n",
        "  bisection(x0,x1,e)"
      ],
      "metadata": {
        "colab": {
          "base_uri": "https://localhost:8080/"
        },
        "id": "t1qEeL0rYWEx",
        "outputId": "75ea023d-2930-451a-f23a-93dc3410c773"
      },
      "execution_count": 2,
      "outputs": [
        {
          "output_type": "stream",
          "name": "stdout",
          "text": [
            "\n",
            "\n",
            "*** BISECTION METHOD IMPLEMENTATION ***\n",
            "Iteration-1, x2 = 0.505000 and f(x2) = -0.199660\n",
            "Iteration-2, x2 = 0.752500 and f(x2) = 0.158926\n",
            "Iteration-3, x2 = 0.628750 and f(x2) = -0.017987\n",
            "Iteration-4, x2 = 0.690625 and f(x2) = 0.071040\n",
            "Iteration-5, x2 = 0.659687 and f(x2) = 0.026672\n",
            "Iteration-6, x2 = 0.644219 and f(x2) = 0.004380\n",
            "Iteration-7, x2 = 0.636484 and f(x2) = -0.006794\n",
            "Iteration-8, x2 = 0.640352 and f(x2) = -0.001205\n",
            "Iteration-9, x2 = 0.642285 and f(x2) = 0.001588\n",
            "Iteration-10, x2 = 0.641318 and f(x2) = 0.000192\n",
            "Iteration-11, x2 = 0.640835 and f(x2) = -0.000507\n",
            "Iteration-12, x2 = 0.641077 and f(x2) = -0.000158\n",
            "Iteration-13, x2 = 0.641198 and f(x2) = 0.000017\n",
            "Iteration-14, x2 = 0.641137 and f(x2) = -0.000070\n",
            "Iteration-15, x2 = 0.641167 and f(x2) = -0.000027\n",
            "Iteration-16, x2 = 0.641182 and f(x2) = -0.000005\n",
            "\n",
            "Required Root is : 0.64118240\n"
          ]
        }
      ]
    },
    {
      "cell_type": "code",
      "source": [
        "print('\\tBISECTION METHOD')\n",
        "a=0\n",
        "b=3\n",
        "for i in range(8):\n",
        "  print('------------Iteration',i+1,'--------------------------')\n",
        "  print()\n",
        "  print('a= ', a)\n",
        "  print('b= ', b)\n",
        "  x = (a + b) / 2\n",
        "  print('x= ', x)\n",
        "  fa = 2*a - 5# Give the function here.\n",
        "  print('fa= ', fa)\n",
        "  fb = 2*b - 5# Give the function here.\n",
        "  print('fb= ', fb)\n",
        "  fx = 2*x - 5# Give the function here.\n",
        "  print('fx= ', fx)\n",
        "  print()\n",
        "\n",
        "  if (fa < 0 and fx < 0) or (fa > 0 and fx > 0):\n",
        "    a = x\n",
        "  else:\n",
        "    b = x"
      ],
      "metadata": {
        "colab": {
          "base_uri": "https://localhost:8080/"
        },
        "id": "DFfkrZnMXZjf",
        "outputId": "e2eedd6e-49fa-40a1-b8e0-d91bdc238e67"
      },
      "execution_count": 1,
      "outputs": [
        {
          "output_type": "stream",
          "name": "stdout",
          "text": [
            "\tBISECTION METHOD\n",
            "------------Iteration 1 --------------------------\n",
            "\n",
            "a=  0\n",
            "b=  3\n",
            "x=  1.5\n",
            "fa=  -5\n",
            "fb=  1\n",
            "fx=  -2.0\n",
            "\n",
            "------------Iteration 2 --------------------------\n",
            "\n",
            "a=  1.5\n",
            "b=  3\n",
            "x=  2.25\n",
            "fa=  -2.0\n",
            "fb=  1\n",
            "fx=  -0.5\n",
            "\n",
            "------------Iteration 3 --------------------------\n",
            "\n",
            "a=  2.25\n",
            "b=  3\n",
            "x=  2.625\n",
            "fa=  -0.5\n",
            "fb=  1\n",
            "fx=  0.25\n",
            "\n",
            "------------Iteration 4 --------------------------\n",
            "\n",
            "a=  2.25\n",
            "b=  2.625\n",
            "x=  2.4375\n",
            "fa=  -0.5\n",
            "fb=  0.25\n",
            "fx=  -0.125\n",
            "\n",
            "------------Iteration 5 --------------------------\n",
            "\n",
            "a=  2.4375\n",
            "b=  2.625\n",
            "x=  2.53125\n",
            "fa=  -0.125\n",
            "fb=  0.25\n",
            "fx=  0.0625\n",
            "\n",
            "------------Iteration 6 --------------------------\n",
            "\n",
            "a=  2.4375\n",
            "b=  2.53125\n",
            "x=  2.484375\n",
            "fa=  -0.125\n",
            "fb=  0.0625\n",
            "fx=  -0.03125\n",
            "\n",
            "------------Iteration 7 --------------------------\n",
            "\n",
            "a=  2.484375\n",
            "b=  2.53125\n",
            "x=  2.5078125\n",
            "fa=  -0.03125\n",
            "fb=  0.0625\n",
            "fx=  0.015625\n",
            "\n",
            "------------Iteration 8 --------------------------\n",
            "\n",
            "a=  2.484375\n",
            "b=  2.5078125\n",
            "x=  2.49609375\n",
            "fa=  -0.03125\n",
            "fb=  0.015625\n",
            "fx=  -0.0078125\n",
            "\n"
          ]
        }
      ]
    },
    {
      "cell_type": "code",
      "source": [],
      "metadata": {
        "id": "jTJleALOXXQ-"
      },
      "execution_count": null,
      "outputs": []
    },
    {
      "cell_type": "code",
      "execution_count": null,
      "metadata": {
        "id": "UIn-D4weXHcx"
      },
      "outputs": [],
      "source": []
    }
  ]
}